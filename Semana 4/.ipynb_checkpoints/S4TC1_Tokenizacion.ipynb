{
  "cells": [
    {
      "cell_type": "markdown",
      "metadata": {
        "id": "-hvv8a0VdXrI"
      },
      "source": [
        "![image info](https://raw.githubusercontent.com/albahnsen/MIAD_ML_and_NLP/main/images/banner_1.png)"
      ]
    },
    {
      "cell_type": "markdown",
      "metadata": {
        "id": "yE2oOW3YdXrL"
      },
      "source": [
        "# Taller: Tokenización de textos  \n",
        "\n",
        "En este taller podrán poner en práctica sus conocimientos sobre preprocesamiento de texto (tokenización). El taller está constituido por 5 puntos, en los cuales deberan seguir las intrucciones de cada numeral para su desarrollo."
      ]
    },
    {
      "cell_type": "markdown",
      "metadata": {
        "id": "9i0Pj247dXrM"
      },
      "source": [
        "## Datos detección de toxicidad en comentarios\n",
        "\n",
        "En este taller se usará el conjunto de datos de detección de toxicidad en comentarios de la base de datos de Kaggle. Cada observación es un comentario que tiene como variable objetivo (target) la probabilidad de ser un comentario tóxico. El objetivo es predecir la toxicidad de cada comentario. Para más detalles pueden visitar el siguiente enlace: [datos](https://www.kaggle.com/c/jigsaw-unintended-bias-in-toxicity-classification/data)."
      ]
    },
    {
      "cell_type": "code",
      "execution_count": null,
      "metadata": {
        "id": "Mvq3h3-IdXrN"
      },
      "outputs": [],
      "source": [
        "import warnings\n",
        "warnings.filterwarnings('ignore')"
      ]
    },
    {
      "cell_type": "code",
      "execution_count": null,
      "metadata": {
        "id": "yZxngx4CdXrO"
      },
      "outputs": [],
      "source": [
        "# Importación librerías\n",
        "import pandas as pd\n",
        "import numpy as np\n",
        "import scipy as sp\n",
        "from sklearn.naive_bayes import MultinomialNB\n",
        "import sklearn\n",
        "from sklearn.model_selection import train_test_split, cross_val_score\n",
        "from sklearn.tree import DecisionTreeRegressor\n",
        "from sklearn.feature_extraction.text import CountVectorizer, TfidfVectorizer\n",
        "from sklearn import metrics\n",
        "from sklearn.tree import plot_tree\n",
        "import matplotlib.pyplot as plt\n",
        "%matplotlib inline"
      ]
    },
    {
      "cell_type": "code",
      "execution_count": null,
      "metadata": {
        "colab": {
          "base_uri": "https://localhost:8080/",
          "height": 206
        },
        "id": "2br_pQy5dXrO",
        "outputId": "a3387a1d-0d5d-41f9-c372-531e6aef8a3c"
      },
      "outputs": [
        {
          "data": {
            "text/html": [
              "\n",
              "  <div id=\"df-32635da1-c7f7-4f04-b8e9-5ec48df9c9cf\">\n",
              "    <div class=\"colab-df-container\">\n",
              "      <div>\n",
              "<style scoped>\n",
              "    .dataframe tbody tr th:only-of-type {\n",
              "        vertical-align: middle;\n",
              "    }\n",
              "\n",
              "    .dataframe tbody tr th {\n",
              "        vertical-align: top;\n",
              "    }\n",
              "\n",
              "    .dataframe thead th {\n",
              "        text-align: right;\n",
              "    }\n",
              "</style>\n",
              "<table border=\"1\" class=\"dataframe\">\n",
              "  <thead>\n",
              "    <tr style=\"text-align: right;\">\n",
              "      <th></th>\n",
              "      <th>id</th>\n",
              "      <th>comment_text</th>\n",
              "      <th>target</th>\n",
              "    </tr>\n",
              "  </thead>\n",
              "  <tbody>\n",
              "    <tr>\n",
              "      <th>0</th>\n",
              "      <td>6101457</td>\n",
              "      <td>What are you talking about? What group do Pete...</td>\n",
              "      <td>0.0</td>\n",
              "    </tr>\n",
              "    <tr>\n",
              "      <th>1</th>\n",
              "      <td>5342103</td>\n",
              "      <td>NO!, Let him, we need a Conservative government.</td>\n",
              "      <td>0.0</td>\n",
              "    </tr>\n",
              "    <tr>\n",
              "      <th>2</th>\n",
              "      <td>743361</td>\n",
              "      <td>Perhaps he took the \"power out of the Cardinal...</td>\n",
              "      <td>0.2</td>\n",
              "    </tr>\n",
              "    <tr>\n",
              "      <th>3</th>\n",
              "      <td>551008</td>\n",
              "      <td>As always, yours is dripping with sarcasm, whi...</td>\n",
              "      <td>0.0</td>\n",
              "    </tr>\n",
              "    <tr>\n",
              "      <th>4</th>\n",
              "      <td>865998</td>\n",
              "      <td>The dirty little secret is that the price rang...</td>\n",
              "      <td>0.3</td>\n",
              "    </tr>\n",
              "  </tbody>\n",
              "</table>\n",
              "</div>\n",
              "      <button class=\"colab-df-convert\" onclick=\"convertToInteractive('df-32635da1-c7f7-4f04-b8e9-5ec48df9c9cf')\"\n",
              "              title=\"Convert this dataframe to an interactive table.\"\n",
              "              style=\"display:none;\">\n",
              "        \n",
              "  <svg xmlns=\"http://www.w3.org/2000/svg\" height=\"24px\"viewBox=\"0 0 24 24\"\n",
              "       width=\"24px\">\n",
              "    <path d=\"M0 0h24v24H0V0z\" fill=\"none\"/>\n",
              "    <path d=\"M18.56 5.44l.94 2.06.94-2.06 2.06-.94-2.06-.94-.94-2.06-.94 2.06-2.06.94zm-11 1L8.5 8.5l.94-2.06 2.06-.94-2.06-.94L8.5 2.5l-.94 2.06-2.06.94zm10 10l.94 2.06.94-2.06 2.06-.94-2.06-.94-.94-2.06-.94 2.06-2.06.94z\"/><path d=\"M17.41 7.96l-1.37-1.37c-.4-.4-.92-.59-1.43-.59-.52 0-1.04.2-1.43.59L10.3 9.45l-7.72 7.72c-.78.78-.78 2.05 0 2.83L4 21.41c.39.39.9.59 1.41.59.51 0 1.02-.2 1.41-.59l7.78-7.78 2.81-2.81c.8-.78.8-2.07 0-2.86zM5.41 20L4 18.59l7.72-7.72 1.47 1.35L5.41 20z\"/>\n",
              "  </svg>\n",
              "      </button>\n",
              "      \n",
              "  <style>\n",
              "    .colab-df-container {\n",
              "      display:flex;\n",
              "      flex-wrap:wrap;\n",
              "      gap: 12px;\n",
              "    }\n",
              "\n",
              "    .colab-df-convert {\n",
              "      background-color: #E8F0FE;\n",
              "      border: none;\n",
              "      border-radius: 50%;\n",
              "      cursor: pointer;\n",
              "      display: none;\n",
              "      fill: #1967D2;\n",
              "      height: 32px;\n",
              "      padding: 0 0 0 0;\n",
              "      width: 32px;\n",
              "    }\n",
              "\n",
              "    .colab-df-convert:hover {\n",
              "      background-color: #E2EBFA;\n",
              "      box-shadow: 0px 1px 2px rgba(60, 64, 67, 0.3), 0px 1px 3px 1px rgba(60, 64, 67, 0.15);\n",
              "      fill: #174EA6;\n",
              "    }\n",
              "\n",
              "    [theme=dark] .colab-df-convert {\n",
              "      background-color: #3B4455;\n",
              "      fill: #D2E3FC;\n",
              "    }\n",
              "\n",
              "    [theme=dark] .colab-df-convert:hover {\n",
              "      background-color: #434B5C;\n",
              "      box-shadow: 0px 1px 3px 1px rgba(0, 0, 0, 0.15);\n",
              "      filter: drop-shadow(0px 1px 2px rgba(0, 0, 0, 0.3));\n",
              "      fill: #FFFFFF;\n",
              "    }\n",
              "  </style>\n",
              "\n",
              "      <script>\n",
              "        const buttonEl =\n",
              "          document.querySelector('#df-32635da1-c7f7-4f04-b8e9-5ec48df9c9cf button.colab-df-convert');\n",
              "        buttonEl.style.display =\n",
              "          google.colab.kernel.accessAllowed ? 'block' : 'none';\n",
              "\n",
              "        async function convertToInteractive(key) {\n",
              "          const element = document.querySelector('#df-32635da1-c7f7-4f04-b8e9-5ec48df9c9cf');\n",
              "          const dataTable =\n",
              "            await google.colab.kernel.invokeFunction('convertToInteractive',\n",
              "                                                     [key], {});\n",
              "          if (!dataTable) return;\n",
              "\n",
              "          const docLinkHtml = 'Like what you see? Visit the ' +\n",
              "            '<a target=\"_blank\" href=https://colab.research.google.com/notebooks/data_table.ipynb>data table notebook</a>'\n",
              "            + ' to learn more about interactive tables.';\n",
              "          element.innerHTML = '';\n",
              "          dataTable['output_type'] = 'display_data';\n",
              "          await google.colab.output.renderOutput(dataTable, element);\n",
              "          const docLink = document.createElement('div');\n",
              "          docLink.innerHTML = docLinkHtml;\n",
              "          element.appendChild(docLink);\n",
              "        }\n",
              "      </script>\n",
              "    </div>\n",
              "  </div>\n",
              "  "
            ],
            "text/plain": [
              "        id                                       comment_text  target\n",
              "0  6101457  What are you talking about? What group do Pete...     0.0\n",
              "1  5342103   NO!, Let him, we need a Conservative government.     0.0\n",
              "2   743361  Perhaps he took the \"power out of the Cardinal...     0.2\n",
              "3   551008  As always, yours is dripping with sarcasm, whi...     0.0\n",
              "4   865998  The dirty little secret is that the price rang...     0.3"
            ]
          },
          "execution_count": 3,
          "metadata": {},
          "output_type": "execute_result"
        }
      ],
      "source": [
        "# Carga de datos de archivos .csv\n",
        "df = pd.read_csv('https://raw.githubusercontent.com/albahnsen/MIAD_ML_and_NLP/main/datasets/Toxicity.zip')\n",
        "df = df[['id','comment_text', 'target']]\n",
        "df.head()"
      ]
    },
    {
      "cell_type": "code",
      "execution_count": null,
      "metadata": {
        "colab": {
          "base_uri": "https://localhost:8080/",
          "height": 447
        },
        "id": "VOWS1do5dXrQ",
        "outputId": "e65e717e-0d4b-434b-fb5f-2f5262091b54"
      },
      "outputs": [
        {
          "data": {
            "text/plain": [
              "<Axes: >"
            ]
          },
          "execution_count": 4,
          "metadata": {},
          "output_type": "execute_result"
        },
        {
          "data": {
            "image/png": "[encoded data removed]",
            "text/plain": [
              "<Figure size 640x480 with 1 Axes>"
            ]
          },
          "metadata": {},
          "output_type": "display_data"
        }
      ],
      "source": [
        "# Impresión histograma de variable de interés (y)\n",
        "df.target.hist()"
      ]
    },
    {
      "cell_type": "code",
      "execution_count": null,
      "metadata": {
        "colab": {
          "base_uri": "https://localhost:8080/"
        },
        "id": "_5otSZfJdXrQ",
        "outputId": "275826d0-1353-4950-ac5d-084e206ebc6e"
      },
      "outputs": [
        {
          "data": {
            "text/plain": [
              "count    541462.000000\n",
              "mean          0.102991\n",
              "std           0.196979\n",
              "min           0.000000\n",
              "25%           0.000000\n",
              "50%           0.000000\n",
              "75%           0.166667\n",
              "max           1.000000\n",
              "Name: target, dtype: float64"
            ]
          },
          "execution_count": 5,
          "metadata": {},
          "output_type": "execute_result"
        }
      ],
      "source": [
        "# Separación de variable de interés (y)\n",
        "y = df.target\n",
        "y.describe()"
      ]
    },
    {
      "cell_type": "code",
      "execution_count": null,
      "metadata": {
        "id": "PE1sAJ0_dXrR"
      },
      "outputs": [],
      "source": [
        "# Separación de variables predictoras (X), solo se considera el texto de la noticia\n",
        "X = df.comment_text"
      ]
    },
    {
      "cell_type": "code",
      "execution_count": null,
      "metadata": {
        "id": "IG1I-mc8dXrR"
      },
      "outputs": [],
      "source": [
        "# Separación de datos en set de entrenamiento y test\n",
        "X_train, X_test, y_train, y_test = train_test_split(X, y, test_size=0.5, random_state=42)"
      ]
    },
    {
      "cell_type": "code",
      "execution_count": null,
      "metadata": {
        "colab": {
          "base_uri": "https://localhost:8080/"
        },
        "id": "W8qZw_HVZaoG",
        "outputId": "92caf6d9-58f9-4d4e-8ecf-da3f89e576e2"
      },
      "outputs": [
        {
          "name": "stdout",
          "output_type": "stream",
          "text": [
            "(270731,)\n",
            "(270731,)\n"
          ]
        }
      ],
      "source": [
        "print(X_train.shape)\n",
        "print(X_test.shape)"
      ]
    },
    {
      "cell_type": "markdown",
      "metadata": {
        "id": "Z77Q0AypdXrR"
      },
      "source": [
        "## Punto 1 - Tokenización con CountVectorizer\n",
        "\n",
        "En la celda 1 creen y entrenen el modelo de regresión de su preferencia, para que prediga la probabilidad de que un comentario sea tóxico, usando los set de entrenamiento y test definidos anteriormente. Usen la función **CountVectorizer** para preprocesar los comentarios y presenten el desempeño del modelo con la métrica del MSE.\n",
        "\n",
        "Recuerden que el preprocesamiento que se haga sobre los datos de entrenamiento  (*.fit_transform()*) deben ser aplicado al set de test (*.transform()*)."
      ]
    },
    {
      "cell_type": "code",
      "execution_count": null,
      "metadata": {
        "id": "CD4UMvwBdXrS"
      },
      "outputs": [],
      "source": [
        "# Celda 1\n",
        "vect_1 = CountVectorizer()\n",
        "X_dtm_1=vect_1.fit_transform(X)\n"
      ]
    },
    {
      "cell_type": "code",
      "execution_count": null,
      "metadata": {
        "colab": {
          "base_uri": "https://localhost:8080/"
        },
        "id": "LQAK2OP2in5S",
        "outputId": "70a80b29-b9de-4176-86b0-d0257b43e26d"
      },
      "outputs": [
        {
          "data": {
            "text/plain": [
              "{'what': 165911,\n",
              " 'are': 16977,\n",
              " 'you': 169924,\n",
              " 'talking': 149445,\n",
              " 'about': 10044,\n",
              " 'group': 69318,\n",
              " 'do': 49535,\n",
              " 'peter': 116579,\n",
              " 'christy': 34545,\n",
              " 'and': 14976,\n",
              " 'dominique': 49967,\n",
              " 'belong': 22966,\n",
              " 'to': 153445,\n",
              " 'not': 107867,\n",
              " 'aware': 19703,\n",
              " 'of': 109638,\n",
              " 'any': 15944,\n",
              " 'why': 166602,\n",
              " 'still': 145426,\n",
              " 'hiding': 73629,\n",
              " 'behind': 22693,\n",
              " 'pseudonym': 123056,\n",
              " 'no': 107080,\n",
              " 'let': 91095,\n",
              " 'him': 73951,\n",
              " 'we': 165011,\n",
              " 'need': 105556,\n",
              " 'conservative': 38924,\n",
              " 'government': 68177,\n",
              " 'perhaps': 116076,\n",
              " 'he': 72238,\n",
              " 'took': 153875,\n",
              " 'the': 151333,\n",
              " 'power': 120264,\n",
              " 'out': 112105,\n",
              " 'cardinal': 31110,\n",
              " 'hands': 71157,\n",
              " 'avoid': 19632,\n",
              " 'semblance': 136905,\n",
              " 'undue': 158918,\n",
              " 'influence': 79900,\n",
              " 'over': 112451,\n",
              " 'investigation': 81722,\n",
              " 'is': 82200,\n",
              " 'it': 82512,\n",
              " 'immediate': 78154,\n",
              " 'reaction': 126288,\n",
              " 'posters': 119977,\n",
              " 'here': 73167,\n",
              " 'jump': 84905,\n",
              " 'rash': 125855,\n",
              " 'judgment': 84773,\n",
              " 'without': 167485,\n",
              " 'all': 13628,\n",
              " 'facts': 58720,\n",
              " 'time': 152999,\n",
              " 'matter': 97102,\n",
              " 'accusation': 10572,\n",
              " 'even': 56973,\n",
              " 'more': 102346,\n",
              " 'if': 77533,\n",
              " 'an': 14766,\n",
              " 'opportunity': 111095,\n",
              " 'slam': 140557,\n",
              " 'as': 18008,\n",
              " 'always': 14160,\n",
              " 'yours': 169998,\n",
              " 'dripping': 51059,\n",
              " 'with': 167436,\n",
              " 'sarcasm': 134369,\n",
              " 'which': 166144,\n",
              " 'quoted': 124840,\n",
              " 'from': 63858,\n",
              " 'psychology': 123178,\n",
              " 'today': 153521,\n",
              " 'yesterday': 169663,\n",
              " 'form': 62720,\n",
              " 'bullying': 28649,\n",
              " 'dirty': 48055,\n",
              " 'little': 92492,\n",
              " 'secret': 136433,\n",
              " 'that': 151278,\n",
              " 'price': 121444,\n",
              " 'range': 125694,\n",
              " 'before': 22568,\n",
              " 'fees': 59939,\n",
              " 'taxes': 149998,\n",
              " '34k': 4514,\n",
              " '42k': 5180,\n",
              " 'for': 62435,\n",
              " 'chevrolet': 33815,\n",
              " 'traverse': 155093,\n",
              " '29k': 3816,\n",
              " '40k': 5089,\n",
              " 'impala': 78304,\n",
              " 'meaningful': 98058,\n",
              " 'sedan': 136543,\n",
              " 'competition': 37744,\n",
              " 'right': 130899,\n",
              " 'now': 108095,\n",
              " 'crossovers': 41998,\n",
              " 'only': 110632,\n",
              " 'marginally': 96277,\n",
              " 'expensive': 57882,\n",
              " 'than': 151233,\n",
              " 'sedans': 136544,\n",
              " 'comparable': 37647,\n",
              " 'in': 78689,\n",
              " 'size': 140108,\n",
              " 'quite': 124781,\n",
              " 'often': 109825,\n",
              " 'have': 71916,\n",
              " 'worse': 168181,\n",
              " 'fuel': 64132,\n",
              " 'economy': 52831,\n",
              " 'offer': 109695,\n",
              " 'lot': 93487,\n",
              " 'utility': 161146,\n",
              " 'number': 108438,\n",
              " 'people': 115880,\n",
              " 'light': 91808,\n",
              " 'gets': 66305,\n",
              " 'bent': 23198,\n",
              " 'by': 29489,\n",
              " 'gravity': 68691,\n",
              " 'however': 75740,\n",
              " 'isn': 82381,\n",
              " 'much': 103187,\n",
              " 'unless': 159580,\n",
              " 'huge': 76066,\n",
              " 'source': 142757,\n",
              " 'like': 91887,\n",
              " 'quasar': 124491,\n",
              " 'earth': 52434,\n",
              " 'can': 30418,\n",
              " 'bend': 23031,\n",
              " 'tiny': 153171,\n",
              " 'amount': 14643,\n",
              " 'moon': 102195,\n",
              " 'less': 91068,\n",
              " 'so': 141803,\n",
              " 'won': 167801,\n",
              " 'sun': 147387,\n",
              " 'enough': 55262,\n",
              " 'around': 17316,\n",
              " 'get': 66273,\n",
              " 'us': 160836,\n",
              " 'http': 75956,\n",
              " 'www': 168711,\n",
              " 'cnn': 36157,\n",
              " 'com': 37058,\n",
              " '2017': 2585,\n",
              " '08': 284,\n",
              " '10': 471,\n",
              " 'health': 72375,\n",
              " 'how': 75718,\n",
              " 'safely': 133569,\n",
              " 'watch': 164714,\n",
              " 'eclipse': 52734,\n",
              " 'index': 79339,\n",
              " 'html': 75944,\n",
              " 'look': 93246,\n",
              " 'at': 18681,\n",
              " 'total': 154169,\n",
              " 'when': 166071,\n",
              " 'totally': 154192,\n",
              " 'eclipsed': 52735,\n",
              " 'other': 111919,\n",
              " 'dangerous': 43601,\n",
              " 'this': 152226,\n",
              " 'bad': 20412,\n",
              " 'joke': 84360,\n",
              " 'rewrite': 130429,\n",
              " 'history': 74183,\n",
              " 'every': 57055,\n",
              " 'someone': 142339,\n",
              " 'believes': 22844,\n",
              " 'fairy': 58888,\n",
              " 'tale': 149404,\n",
              " 'cultural': 42563,\n",
              " 'appropriation': 16553,\n",
              " 'some': 142317,\n",
              " 'homeless': 74831,\n",
              " 'actually': 10940,\n",
              " 'live': 92540,\n",
              " 'peacefully': 115280,\n",
              " 'together': 153587,\n",
              " 'will': 166948,\n",
              " 'be': 22088,\n",
              " 'them': 151663,\n",
              " 'helping': 72943,\n",
              " 'maybe': 97309,\n",
              " 'they': 152030,\n",
              " 'should': 138892,\n",
              " 'also': 14017,\n",
              " 'include': 79008,\n",
              " 'koban': 87821,\n",
              " 'style': 146543,\n",
              " 'police': 119038,\n",
              " 'box': 26748,\n",
              " 'or': 111229,\n",
              " 'least': 90392,\n",
              " 'resident': 129568,\n",
              " 'manager': 95664,\n",
              " 'help': 72930,\n",
              " 'resolve': 129638,\n",
              " 'problems': 121848,\n",
              " '24': 3354,\n",
              " 'those': 152377,\n",
              " 'small': 141059,\n",
              " 'japanese': 83203,\n",
              " 'family': 59096,\n",
              " 'units': 159479,\n",
              " 'were': 165581,\n",
              " 'alotted': 13940,\n",
              " 'years': 169521,\n",
              " 'close': 35893,\n",
              " 'knit': 87699,\n",
              " 'farming': 59281,\n",
              " 'communities': 37562,\n",
              " 'who': 166430,\n",
              " 'along': 13921,\n",
              " 'appreciated': 16503,\n",
              " 'living': 92593,\n",
              " 'keeping': 86277,\n",
              " 'clean': 35477,\n",
              " 'staying': 144921,\n",
              " 'away': 19709,\n",
              " 'crime': 41667,\n",
              " 'would': 168244,\n",
              " 'good': 67742,\n",
              " 'requirements': 129398,\n",
              " 'first': 61115,\n",
              " 'attempt': 18953,\n",
              " 'urban': 160729,\n",
              " 'setting': 137477,\n",
              " 'honolulu': 75080,\n",
              " 'hope': 75252,\n",
              " 'plan': 118175,\n",
              " 'includes': 79011,\n",
              " 'on': 110494,\n",
              " 'site': 140030,\n",
              " 'social': 141877,\n",
              " 'workers': 168041,\n",
              " 'clock': 35856,\n",
              " 'security': 136527,\n",
              " 'thanks': 151254,\n",
              " 'okay': 110069,\n",
              " 'investigating': 81719,\n",
              " 'eric': 56072,\n",
              " 'holder': 74624,\n",
              " 'fast': 59394,\n",
              " 'furious': 64432,\n",
              " 'obama': 108912,\n",
              " 'hillary': 73867,\n",
              " 'benghazi': 23128,\n",
              " 'meeting': 98402,\n",
              " 'susan': 148092,\n",
              " 'rice': 130643,\n",
              " 'bill': 24160,\n",
              " 'clinton': 35774,\n",
              " 'selling': 136865,\n",
              " '20': 2426,\n",
              " 'percent': 115959,\n",
              " 'uranium': 160725,\n",
              " 'russia': 132958,\n",
              " 'releasing': 128331,\n",
              " 'five': 61259,\n",
              " 'terrorist': 150946,\n",
              " 'gitmo': 66837,\n",
              " 'one': 110529,\n",
              " 'traitor': 154656,\n",
              " 'there': 151849,\n",
              " 'trust': 156323,\n",
              " 'respect': 129686,\n",
              " 'compromise': 37956,\n",
              " 'honour': 75115,\n",
              " 'honesty': 75027,\n",
              " 'last': 89699,\n",
              " 'great': 68748,\n",
              " 'president': 121159,\n",
              " 'died': 47454,\n",
              " '1945': 2099,\n",
              " 'dubya': 51454,\n",
              " 'donald': 50000,\n",
              " 'awful': 19735,\n",
              " 'doesn': 49689,\n",
              " 'mean': 98040,\n",
              " 'was': 164578,\n",
              " 'these': 151962,\n",
              " 'men': 98749,\n",
              " 'mere': 98968,\n",
              " 'shadow': 137752,\n",
              " 'kind': 87114,\n",
              " 'leaders': 90256,\n",
              " 'used': 160933,\n",
              " 'take': 149344,\n",
              " 'role': 131767,\n",
              " 'but': 29230,\n",
              " 'too': 153857,\n",
              " 'disgusted': 48530,\n",
              " 'gamesmanship': 65030,\n",
              " 'bother': 26534,\n",
              " 'playing': 118351,\n",
              " 'system': 148931,\n",
              " 'sick': 139264,\n",
              " 'figured': 60650,\n",
              " 'ads': 11510,\n",
              " 'leary': 90369,\n",
              " 'bs': 28122,\n",
              " 'saw': 134704,\n",
              " 'principled': 121590,\n",
              " 'involved': 81813,\n",
              " 'scams': 134959,\n",
              " 'tax': 149964,\n",
              " 'avoidance': 19636,\n",
              " 'then': 151703,\n",
              " 'evasion': 56952,\n",
              " 'latter': 89794,\n",
              " 'practiced': 120412,\n",
              " 'don': 49990,\n",
              " 'care': 31139,\n",
              " 'whether': 166123,\n",
              " 'alaska': 13140,\n",
              " 'educates': 53080,\n",
              " 'its': 82622,\n",
              " 'children': 33990,\n",
              " 'ass': 18291,\n",
              " 're': 126265,\n",
              " 'certainly': 32712,\n",
              " 'suggesting': 147179,\n",
              " 'responsibility': 129757,\n",
              " 'babysit': 20196,\n",
              " 'trump': 155970,\n",
              " 'campaign': 30353,\n",
              " 'minute': 100446,\n",
              " 'fox': 63024,\n",
              " 'news': 106250,\n",
              " 'video': 162628,\n",
              " 'shep': 138306,\n",
              " 'smith': 141230,\n",
              " 'probably': 121799,\n",
              " 'https': 75958,\n",
              " 'youtu': 170028,\n",
              " 'rkjk2fizlva': 131281,\n",
              " 'fan': 59113,\n",
              " 'pq': 120384,\n",
              " 'chess': 33790,\n",
              " 'does': 49686,\n",
              " 'rene': 128697,\n",
              " 'levesque': 91197,\n",
              " 'bobby': 25655,\n",
              " 'fischer': 61146,\n",
              " 'blood': 25244,\n",
              " 'their': 151622,\n",
              " 'ridiculous': 130801,\n",
              " 'logic': 92997,\n",
              " 'article': 17509,\n",
              " 'globe': 67148,\n",
              " 'mail': 95118,\n",
              " 'plato': 118292,\n",
              " 'testing': 151052,\n",
              " 'has': 71685,\n",
              " 'operations': 110968,\n",
              " 'new': 106172,\n",
              " 'brunswick': 28050,\n",
              " 'british': 27665,\n",
              " 'columbia': 37028,\n",
              " 'exploring': 58004,\n",
              " 'expansion': 57805,\n",
              " 'into': 81450,\n",
              " 'provinces': 122880,\n",
              " 'company': 37641,\n",
              " 'training': 154636,\n",
              " 'program': 122144,\n",
              " 'technical': 150291,\n",
              " 'infrastructure': 79994,\n",
              " 'make': 95309,\n",
              " 'work': 168024,\n",
              " 'canadian': 30465,\n",
              " 'companies': 37634,\n",
              " 'crown': 42053,\n",
              " 'corporations': 40216,\n",
              " 'governments': 68187,\n",
              " 'invest': 81700,\n",
              " 'futures': 64540,\n",
              " 'indigenous': 79410,\n",
              " 'canadians': 30485,\n",
              " 'pursuing': 123834,\n",
              " 'careers': 31155,\n",
              " 'information': 79940,\n",
              " 'technology': 150324,\n",
              " 'knowledge': 87764,\n",
              " 'testers': 151029,\n",
              " 'well': 165471,\n",
              " 'trained': 154628,\n",
              " 'able': 9940,\n",
              " 'deliver': 45405,\n",
              " 'professional': 122018,\n",
              " 'cost': 40473,\n",
              " 'competitive': 37748,\n",
              " 'services': 137403,\n",
              " 'canada': 30431,\n",
              " 'purchase': 123726,\n",
              " 'decision': 44577,\n",
              " 'helps': 72955,\n",
              " 'create': 41438,\n",
              " 'career': 31149,\n",
              " 'positively': 119891,\n",
              " 'impact': 78289,\n",
              " 'life': 91716,\n",
              " 'your': 169977,\n",
              " 'business': 29151,\n",
              " 'ah': 12438,\n",
              " 'barney': 21328,\n",
              " 'racist': 125143,\n",
              " 'eh': 53430,\n",
              " 'alceste': 13313,\n",
              " 'name': 104645,\n",
              " 'calling': 30175,\n",
              " 'labelling': 88906,\n",
              " 'worked': 168038,\n",
              " 'while': 166180,\n",
              " 'losing': 93470,\n",
              " 'effect': 53238,\n",
              " 'barbarians': 21176,\n",
              " 'gates': 65393,\n",
              " 'point': 118918,\n",
              " 'going': 67551,\n",
              " 'resist': 129604,\n",
              " 'accept': 10356,\n",
              " 'forced': 62475,\n",
              " 'reason': 126558,\n",
              " 'sell': 136858,\n",
              " 'many': 96082,\n",
              " 'brother': 27904,\n",
              " 'caravan': 31044,\n",
              " 'outsell': 112339,\n",
              " 'sienna': 139401,\n",
              " 'odyssey': 109611,\n",
              " 'combine': 37095,\n",
              " 'believe': 22837,\n",
              " 'lies': 91702,\n",
              " 'sale': 133793,\n",
              " 'century': 32652,\n",
              " 'already': 13996,\n",
              " 'know': 87748,\n",
              " 'paying': 115125,\n",
              " 'pants': 113915,\n",
              " 'thing': 152144,\n",
              " 'wouldn': 168252,\n",
              " 'agonizing': 12339,\n",
              " 'shopping': 138793,\n",
              " 'tell': 150555,\n",
              " 'ok': 110057,\n",
              " 'pay': 115094,\n",
              " 'important': 78496,\n",
              " 'circumstances': 34996,\n",
              " 'had': 70495,\n",
              " 'been': 22515,\n",
              " 'reversed': 130290,\n",
              " 'store': 145752,\n",
              " 'charged': 33250,\n",
              " 'twice': 157158,\n",
              " 'didn': 47434,\n",
              " 'notice': 107953,\n",
              " 'until': 160300,\n",
              " 'got': 68036,\n",
              " 'home': 74794,\n",
              " 'thought': 152395,\n",
              " 'oh': 109883,\n",
              " 'just': 85042,\n",
              " 'luck': 93893,\n",
              " 'forgotten': 62702,\n",
              " 'upset': 160627,\n",
              " 'requested': 129379,\n",
              " 'money': 101872,\n",
              " 'back': 20230,\n",
              " 'both': 26526,\n",
              " 'ways': 164937,\n",
              " 'insects': 80504,\n",
              " 'free': 63417,\n",
              " 'reign': 128039,\n",
              " 'once': 110511,\n",
              " 'gone': 67694,\n",
              " 'ain': 12671,\n",
              " 'waitin': 164067,\n",
              " 'island': 82348,\n",
              " 'lombok': 93120,\n",
              " 'indonesia': 79520,\n",
              " 'flying': 62042,\n",
              " 'bite': 24589,\n",
              " 'em': 54174,\n",
              " 'did': 47409,\n",
              " 'duty': 52002,\n",
              " 'my': 104067,\n",
              " 'bare': 21247,\n",
              " 'feet': 59942,\n",
              " 'bites': 24595,\n",
              " 'each': 52326,\n",
              " 'foot': 62381,\n",
              " 'ankle': 15352,\n",
              " 'toes': 153561,\n",
              " 'pain': 113499,\n",
              " 'itch': 82550,\n",
              " 'memory': 98742,\n",
              " 'lingers': 92147,\n",
              " 'eveyone': 57110,\n",
              " 'approve': 16563,\n",
              " 'pipeline': 117842,\n",
              " 'environmentalists': 55625,\n",
              " 'go': 67350,\n",
              " 'nuts': 108616,\n",
              " 'rail': 125381,\n",
              " 'against': 12129,\n",
              " 'big': 23967,\n",
              " 'oil': 109968,\n",
              " 'destroying': 46668,\n",
              " 'land': 89362,\n",
              " 'refuse': 127752,\n",
              " 'pipelines': 117845,\n",
              " 'west': 165626,\n",
              " 'rails': 125409,\n",
              " 'th': 151189,\n",
              " 'feds': 59866,\n",
              " 'caring': 31222,\n",
              " 'central': 32609,\n",
              " 'goes': 67508,\n",
              " 'personal': 116384,\n",
              " 'bit': 24574,\n",
              " 'tear': 150242,\n",
              " 'jerker': 83671,\n",
              " 'story': 145802,\n",
              " 'sprinkled': 143923,\n",
              " 'partisan': 114533,\n",
              " 'nastiness': 104937,\n",
              " 'somehow': 142328,\n",
              " 'decisions': 44583,\n",
              " 'after': 12072,\n",
              " 'months': 102126,\n",
              " 'consultatins': 39242,\n",
              " 'ad': 10996,\n",
              " 'public': 123301,\n",
              " 'meetings': 98408,\n",
              " 'suppose': 147800,\n",
              " 'determined': 46773,\n",
              " 'whims': 166196,\n",
              " 'wants': 164362,\n",
              " 'known': 87778,\n",
              " 'development': 46903,\n",
              " 'contented': 39371,\n",
              " 'handouts': 71149,\n",
              " 'want': 164346,\n",
              " 'jobs': 84170,\n",
              " 'regardless': 127788,\n",
              " 'carbon': 31060,\n",
              " 'footprint': 62413,\n",
              " 'left': 90561,\n",
              " 'tough': 154255,\n",
              " 'call': 30149,\n",
              " 'sure': 147915,\n",
              " 'end': 54864,\n",
              " 'side': 139304,\n",
              " 'unhappy': 159230,\n",
              " 'praising': 120466,\n",
              " 'mr': 102992,\n",
              " 'trudeau': 155863,\n",
              " 'hey': 73444,\n",
              " 'makes': 95334,\n",
              " '000': 1,\n",
              " '500': 5686,\n",
              " 'per': 115942,\n",
              " 'wolf': 167704,\n",
              " 'id': 77230,\n",
              " 'spending': 143339,\n",
              " 'bargain': 21271,\n",
              " 'past': 114685,\n",
              " 'legislature': 90733,\n",
              " 'allocated': 13778,\n",
              " '400': 5005,\n",
              " 'year': 169498,\n",
              " 'being': 22733,\n",
              " 'bottom': 26578,\n",
              " 'states': 144789,\n",
              " 'pupil': 123694,\n",
              " 'addition': 11114,\n",
              " 'dropped': 51151,\n",
              " 'state': 144751,\n",
              " 'park': 114294,\n",
              " 'funding': 64342,\n",
              " '18': 1821,\n",
              " 'million': 100108,\n",
              " 'late': 89727,\n",
              " 'senator': 136984,\n",
              " 'frank': 63226,\n",
              " 'church': 34727,\n",
              " 'rolling': 131799,\n",
              " 'his': 74125,\n",
              " 'grave': 68654,\n",
              " 'better': 23612,\n",
              " 'question': 124617,\n",
              " 'rennie': 128750,\n",
              " 'yet': 169671,\n",
              " 'part': 114446,\n",
              " 'trade': 154526,\n",
              " 'peace': 115270,\n",
              " 'cool': 39833,\n",
              " 'love': 93594,\n",
              " 'affair': 11835,\n",
              " 'china': 34055,\n",
              " 'afraid': 12020,\n",
              " 'very': 162330,\n",
              " 'seems': 136650,\n",
              " 'become': 22383,\n",
              " 'mantra': 96033,\n",
              " 'wing': 167201,\n",
              " 'conservatives': 38938,\n",
              " 'senseless': 137067,\n",
              " 'tragic': 154604,\n",
              " 'event': 56989,\n",
              " 'label': 88901,\n",
              " 'attack': 18920,\n",
              " 'another': 15542,\n",
              " 'propaganda': 122418,\n",
              " 'scarify': 135057,\n",
              " 'population': 119666,\n",
              " 'gin': 66706,\n",
              " 'up': 160487,\n",
              " 'base': 21501,\n",
              " 'political': 119128,\n",
              " 'opponents': 111081,\n",
              " 'silver': 139639,\n",
              " 'lining': 92171,\n",
              " 'human': 76156,\n",
              " 'tragedy': 154602,\n",
              " 'course': 40843,\n",
              " 'same': 133986,\n",
              " 'apply': 16432,\n",
              " 'ordinary': 111363,\n",
              " 'mass': 96835,\n",
              " 'shooting': 138754,\n",
              " 'becoming': 22386,\n",
              " 'common': 37474,\n",
              " 'silent': 139579,\n",
              " 'events': 56999,\n",
              " 'showing': 138964,\n",
              " 'dead': 44187,\n",
              " 'reflect': 127614,\n",
              " 'cycle': 43029,\n",
              " 'moves': 102907,\n",
              " 'come': 37126,\n",
              " 'forth': 62835,\n",
              " 'statements': 144778,\n",
              " 'powerless': 120291,\n",
              " 'nothing': 107932,\n",
              " 'absolutely': 10145,\n",
              " 'could': 40597,\n",
              " 'prevented': 121367,\n",
              " 'mitigated': 101070,\n",
              " 'slaughter': 140618,\n",
              " 'occurred': 109410,\n",
              " 'sandy': 134197,\n",
              " 'hook': 75173,\n",
              " 'las': 89655,\n",
              " 'vegas': 161974,\n",
              " 'world': 168100,\n",
              " 'started': 144699,\n",
              " 'tabatha': 149088,\n",
              " 'born': 26414,\n",
              " 'she': 138117,\n",
              " 'hitting': 74261,\n",
              " 'pipe': 117833,\n",
              " 'evening': 56980,\n",
              " 'son': 142409,\n",
              " 've': 161924,\n",
              " 'learned': 90358,\n",
              " 'father': 59458,\n",
              " 'himself': 73969,\n",
              " 'needs': 105573,\n",
              " 'learn': 90356,\n",
              " 'wildlife': 166890,\n",
              " 'morals': 102326,\n",
              " 'kids': 86936,\n",
              " 'screw': 135915,\n",
              " 'break': 27210,\n",
              " 'law': 89974,\n",
              " 'teaching': 150203,\n",
              " 'keep': 86271,\n",
              " 'hard': 71379,\n",
              " 'way': 164911,\n",
              " 'honest': 75023,\n",
              " 'responsible': 129763,\n",
              " 'adults': 11549,\n",
              " 'problem': 121839,\n",
              " 'discussing': 48404,\n",
              " 'matters': 97108,\n",
              " 'kid': 86901,\n",
              " 'liberal': 91431,\n",
              " 'process': 121891,\n",
              " 'because': 22335,\n",
              " 'think': 152157,\n",
              " 'such': 147015,\n",
              " 'screwed': 135923,\n",
              " 'days': 44015,\n",
              " 'sense': 137061,\n",
              " 'applaud': 16392,\n",
              " 'done': 50049,\n",
              " 'increase': 79160,\n",
              " 'immigration': 78191,\n",
              " 'levels': 91183,\n",
              " 'truly': 155954,\n",
              " 'achieve': 10663,\n",
              " 'economic': 52802,\n",
              " 'potential': 120096,\n",
              " 'numbers': 108444,\n",
              " 'ever': 57010,\n",
              " 'powerhouse': 120287,\n",
              " 'usual': 161069,\n",
              " 'liberals': 91459,\n",
              " 'excellent': 57392,\n",
              " 'sensible': 137079,\n",
              " 'fiscal': 61143,\n",
              " 'managers': 95667,\n",
              " 'actual': 10931,\n",
              " 'sorry': 142624,\n",
              " 'cpc': 41086,\n",
              " 'fellow': 60038,\n",
              " 'travellers': 155080,\n",
              " 'guys': 70151,\n",
              " 'disaster': 48161,\n",
              " 'doing': 49808,\n",
              " 'true': 155915,\n",
              " 'raise': 125466,\n",
              " 'afford': 11909,\n",
              " 'necessary': 105504,\n",
              " 'lrt': 93757,\n",
              " 'fits': 61233,\n",
              " 'effective': 53241,\n",
              " 'winger': 167211,\n",
              " 'supports': 147794,\n",
              " 'subway': 146946,\n",
              " 'finally': 60817,\n",
              " 'man': 95642,\n",
              " 'grown': 69372,\n",
              " 'pair': 113527,\n",
              " 'continually': 39446,\n",
              " 'embarrassed': 54260,\n",
              " 'issues': 82471,\n",
              " 'friend': 63717,\n",
              " 'rhetorical': 130534,\n",
              " 'answer': 15591,\n",
              " 'requires': 129400,\n",
              " 'hypotheticals': 76874,\n",
              " 'embarrassment': 54266,\n",
              " 'debate': 44343,\n",
              " 'skills': 140309,\n",
              " 'master': 96893,\n",
              " 'debater': 44348,\n",
              " 'link': 92173,\n",
              " 'regarding': 127786,\n",
              " 'gary': 65288,\n",
              " 'johnson': 84322,\n",
              " 'science': 135585,\n",
              " 'archives': 16927,\n",
              " '2016': 2561,\n",
              " '06': 236,\n",
              " 'policy': 119061,\n",
              " 'agree': 12358,\n",
              " 'strong': 146236,\n",
              " 'climate': 35691,\n",
              " 'change': 33082,\n",
              " 'global': 67108,\n",
              " 'warming': 164472,\n",
              " 'neither': 105762,\n",
              " 'term': 150830,\n",
              " 'bothers': 26539,\n",
              " 'me': 98012,\n",
              " 'interesting': 81097,\n",
              " 'see': 136594,\n",
              " 'questions': 124632,\n",
              " 'pressed': 121211,\n",
              " 'example': 57338,\n",
              " 'market': 96437,\n",
              " 'stop': 145716,\n",
              " 'reverse': 130289,\n",
              " 'democrats': 45646,\n",
              " 'republicans': 129263,\n",
              " 'either': 53567,\n",
              " 'party': 114573,\n",
              " 'nominee': 107292,\n",
              " 'person': 116376,\n",
              " 'reasonable': 126561,\n",
              " 'willing': 167008,\n",
              " 'others': 111936,\n",
              " 'deny': 45983,\n",
              " 'evidence': 57131,\n",
              " 'nut': 108573,\n",
              " 'shell': 138251,\n",
              " 'jam': 83050,\n",
              " 'place': 118099,\n",
              " 'night': 106694,\n",
              " 'week': 165269,\n",
              " 'apparently': 16306,\n",
              " 'rare': 125827,\n",
              " 'phenomenon': 116975,\n",
              " 'mlb': 101204,\n",
              " 'given': 66867,\n",
              " 'rockies': 131576,\n",
              " 'drawing': 50877,\n",
              " 'teams': 150233,\n",
              " 'league': 90299,\n",
              " 'comparison': 37665,\n",
              " 'tuesday': 156631,\n",
              " 'attendance': 18962,\n",
              " 'coors': 39908,\n",
              " 'field': 60548,\n",
              " '245': 3386,\n",
              " 'holds': 74635,\n",
              " '47': 5385,\n",
              " 'average': 19568,\n",
              " 'full': 64241,\n",
              " 'joint': 84346,\n",
              " 'cleveland': 35623,\n",
              " '768': 7099,\n",
              " '43': 5185,\n",
              " 'victory': 162619,\n",
              " 'singh': 139850,\n",
              " 'moderate': 101455,\n",
              " 'photogenic': 117229,\n",
              " 'split': 143621,\n",
              " 'vote': 163469,\n",
              " 'gee': 65656,\n",
              " 'wow': 168273,\n",
              " 'made': 94765,\n",
              " 'list': 92313,\n",
              " 'headlines': 72308,\n",
              " 'most': 102634,\n",
              " 'overseas': 112816,\n",
              " 'press': 121201,\n",
              " 'including': 79012,\n",
              " 'australia': 19303,\n",
              " 'contain': 39299,\n",
              " 'word': 167988,\n",
              " 'australian': 19304,\n",
              " 'country': 40781,\n",
              " 'hundreds': 76328,\n",
              " 'websites': 165205,\n",
              " 'choose': 34341,\n",
              " 'usa': 160851,\n",
              " 'um': 157903,\n",
              " 'compellingly': 37707,\n",
              " 'rebuts': 126714,\n",
              " 'possibility': 119931,\n",
              " 'biggest': 24007,\n",
              " 'media': 98207,\n",
              " 'players': 118341,\n",
              " 'affection': 11847,\n",
              " 'narrative': 104864,\n",
              " 'mentioned': 98868,\n",
              " 'really': 126455,\n",
              " 'proves': 122857,\n",
              " 'front': 63880,\n",
              " 'line': 92101,\n",
              " 'getting': 66317,\n",
              " 'buried': 28934,\n",
              " 'twenty': 157139,\n",
              " 'stories': 145769,\n",
              " 'roll': 131778,\n",
              " 'eyes': 58393,\n",
              " 'occur': 109400,\n",
              " 'might': 99822,\n",
              " 'liked': 91895,\n",
              " 'post': 119945,\n",
              " 'issue': 82464,\n",
              " 'read': 126306,\n",
              " 'dolan': 49826,\n",
              " 'trumped': 156025,\n",
              " 'queen': 124562,\n",
              " 'prosperity': 122672,\n",
              " 'christianity': 34485,\n",
              " 'paula': 114993,\n",
              " 'white': 166303,\n",
              " 'whose': 166556,\n",
              " 'thesis': 151972,\n",
              " 'god': 67430,\n",
              " 'rich': 130644,\n",
              " 'her': 73111,\n",
              " 'godly': 67472,\n",
              " 'fee': 59879,\n",
              " 'victoria': 162602,\n",
              " '26': 3554,\n",
              " 'inches': 78946,\n",
              " 'rain': 125419,\n",
              " 'betting': 23628,\n",
              " 'precipitation': 120626,\n",
              " 'mosquito': 102618,\n",
              " 'infested': 79798,\n",
              " '95': 8046,\n",
              " 'humidity': 76233,\n",
              " 'eden': 52934,\n",
              " 'elsewhere': 54108,\n",
              " 'drink': 51043,\n",
              " 'beer': 22529,\n",
              " 'enjoy': 55194,\n",
              " 'our': 112055,\n",
              " 'parks': 114323,\n",
              " 'worry': 168174,\n",
              " 'breaking': 27225,\n",
              " 'laws': 90028,\n",
              " 'everyday': 57061,\n",
              " 'citizens': 35077,\n",
              " 'trying': 156409,\n",
              " 'find': 60855,\n",
              " 'community': 37564,\n",
              " 'use': 160928,\n",
              " 'allow': 13804,\n",
              " 'walk': 164146,\n",
              " 'bbq': 21942,\n",
              " 'weather': 165119,\n",
              " 'whatever': 165949,\n",
              " 'occasion': 109340,\n",
              " 'adult': 11527,\n",
              " 'beverages': 23670,\n",
              " 'comforts': 37190,\n",
              " 'option': 111202,\n",
              " 'city': 35093,\n",
              " 'rules': 132755,\n",
              " 'attractive': 19046,\n",
              " 'families': 59089,\n",
              " 'throughout': 152543,\n",
              " 'few': 60363,\n",
              " 'apples': 16408,\n",
              " 'shouldn': 138908,\n",
              " 'rest': 129798,\n",
              " 'give': 66860,\n",
              " 'greater': 68758,\n",
              " 'move': 102894,\n",
              " 'vagrants': 161427,\n",
              " 'means': 98070,\n",
              " 'note': 107904,\n",
              " 'must': 103909,\n",
              " 'photographers': 117235,\n",
              " 'vacant': 161336,\n",
              " 'unused': 160364,\n",
              " 'show': 138938,\n",
              " 'off': 109663,\n",
              " 'beauty': 22294,\n",
              " 'backyard': 20395,\n",
              " 'crazy': 41396,\n",
              " 'comment': 37300,\n",
              " 'reminds': 128576,\n",
              " 'george': 66083,\n",
              " 'bush': 29092,\n",
              " 'oblique': 109100,\n",
              " 'reference': 127543,\n",
              " 'religion': 128390,\n",
              " 'said': 133665,\n",
              " 'wanted': 164356,\n",
              " 'invade': 81631,\n",
              " 'iraq': 81977,\n",
              " 'civilian': 35142,\n",
              " 'death': 44303,\n",
              " 'toll': 153684,\n",
              " 'thousand': 152421,\n",
              " 'spawn': 143084,\n",
              " 'wonderful': 167807,\n",
              " 'hash': 71709,\n",
              " 'layman': 90081,\n",
              " 'stoner': 145678,\n",
              " 'cisneros': 35031,\n",
              " 'making': 95357,\n",
              " 'except': 57402,\n",
              " 'headline': 72302,\n",
              " 'unlawfully': 159559,\n",
              " 'manufacturing': 96059,\n",
              " 'cannabinoid': 30652,\n",
              " 'extract': 58229,\n",
              " 'oregon': 111393,\n",
              " 'defined': 45026,\n",
              " 'ors': 111642,\n",
              " '475b': 5407,\n",
              " '015': 116,\n",
              " 'substance': 146843,\n",
              " 'obtained': 109274,\n",
              " 'separating': 137173,\n",
              " 'cannabinoids': 30653,\n",
              " 'marijuana': 96335,\n",
              " 'chemical': 33692,\n",
              " 'extraction': 58234,\n",
              " 'using': 161005,\n",
              " 'hydrocarbon': 76632,\n",
              " 'based': 21507,\n",
              " 'solvent': 142285,\n",
              " 'butane': 29236,\n",
              " 'hexane': 73442,\n",
              " 'propane': 122441,\n",
              " 'since': 139804,\n",
              " 'supreme': 147861,\n",
              " 'court': 40856,\n",
              " 'managed': 95660,\n",
              " ...}"
            ]
          },
          "execution_count": 10,
          "metadata": {},
          "output_type": "execute_result"
        }
      ],
      "source": [
        "vect_1.vocabulary_"
      ]
    },
    {
      "cell_type": "code",
      "execution_count": null,
      "metadata": {
        "colab": {
          "base_uri": "https://localhost:8080/"
        },
        "id": "PIQhDGhcisQy",
        "outputId": "1b4a4ad8-d944-4c22-fee6-246cc3135025"
      },
      "outputs": [
        {
          "data": {
            "text/plain": [
              "(541462, 171853)"
            ]
          },
          "execution_count": 11,
          "metadata": {},
          "output_type": "execute_result"
        }
      ],
      "source": [
        "X_dtm_1.shape"
      ]
    },
    {
      "cell_type": "code",
      "execution_count": null,
      "metadata": {
        "colab": {
          "base_uri": "https://localhost:8080/"
        },
        "id": "NVoHCiByiw1k",
        "outputId": "da0ad96f-6853-4346-de25-b094fc5120d0"
      },
      "outputs": [
        {
          "name": "stdout",
          "output_type": "stream",
          "text": [
            "['𝗰𝗮𝗿𝗲𝗳𝘂𝗹' '𝗱𝗼' '𝗱𝗼𝗹𝗹𝗮𝗿𝘀' '𝗳𝗿𝗼𝗺' '𝗳𝗿𝗼𝗻𝘁' '𝗳𝘂𝗹𝗹' '𝗴𝗞𝗭𝗘𝗳𝗿𝗪𝟱𝗺𝟳𝗤' '𝗴𝗶𝘃𝗲'\n",
            " '𝗵𝗮𝘃𝗲' '𝗵𝗲𝗮𝘃𝗲𝗻' '𝗵𝗼𝗻𝗼𝗿𝗲𝗱' '𝗵𝘁𝘁𝗽𝘀' '𝗵𝘆𝗽𝗼𝗰𝗿𝗶𝘁𝗲𝘀' '𝗶𝗻' '𝗶𝘁' '𝗻𝗲𝗲𝗱𝘆' '𝗻𝗼'\n",
            " '𝗻𝗼𝘁' '𝗼𝗳' '𝗼𝗻' '𝗼𝘁𝗵𝗲𝗿𝘀' '𝗽𝗿𝗮𝗰𝘁𝗶𝗰𝗲' '𝗿𝗲𝗰𝗲𝗶𝘃𝗲𝗱' '𝗿𝗲𝘄𝗮𝗿𝗱' '𝗿𝗶𝗴𝗵𝘁𝗲𝗼𝘂𝘀𝗻𝗲𝘀𝘀'\n",
            " '𝘀𝗲𝗲𝗻' '𝘀𝘁𝗿𝗲𝗲𝘁𝘀' '𝘀𝘆𝗻𝗮𝗴𝗼𝗴𝘂𝗲𝘀' '𝘁𝗲𝗹𝗹' '𝘁𝗵𝗲' '𝘁𝗵𝗲𝗶𝗿' '𝘁𝗵𝗲𝗺' '𝘁𝗵𝗲𝘆' '𝘁𝗼'\n",
            " '𝘁𝗿𝘂𝗺𝗽𝗲𝘁𝘀' '𝘄𝗵𝗲𝗻' '𝘄𝗶𝗹𝗹' '𝘄𝗶𝘁𝗵' '𝘆𝗼𝘂' '𝘆𝗼𝘂𝗿' '𝘆𝗼𝘂𝘁𝘂' '𝘊𝘦𝘳𝘢𝘵𝘰𝘤𝘺𝘴𝘵𝘪𝘴'\n",
            " '𝘊𝘩𝘦𝘤𝘬' '𝘢𝘴' '𝘣𝘦' '𝘣𝘺' '𝘥𝘢𝘵𝘦' '𝘧𝘪𝘮𝘣𝘳𝘪𝘢𝘵𝘢' '𝘧𝘰𝘶𝘯𝘥' '𝘰𝘶𝘵𝘥𝘢𝘵𝘦𝘥']\n"
          ]
        }
      ],
      "source": [
        "print(vect_1.get_feature_names_out()[-150:-100])"
      ]
    },
    {
      "cell_type": "code",
      "execution_count": null,
      "metadata": {
        "id": "R_Qqtuk4jiha"
      },
      "outputs": [],
      "source": [
        "reg1 = DecisionTreeRegressor(max_depth = 4)\n"
      ]
    },
    {
      "cell_type": "code",
      "execution_count": null,
      "metadata": {
        "colab": {
          "base_uri": "https://localhost:8080/",
          "height": 74
        },
        "id": "bdZ3vSG8jsQS",
        "outputId": "2e1c2dc7-83cf-4430-d602-638026376376"
      },
      "outputs": [
        {
          "data": {
            "text/html": [
              "<style>#sk-container-id-1 {color: black;background-color: white;}#sk-container-id-1 pre{padding: 0;}#sk-container-id-1 div.sk-toggleable {background-color: white;}#sk-container-id-1 label.sk-toggleable__label {cursor: pointer;display: block;width: 100%;margin-bottom: 0;padding: 0.3em;box-sizing: border-box;text-align: center;}#sk-container-id-1 label.sk-toggleable__label-arrow:before {content: \"▸\";float: left;margin-right: 0.25em;color: #696969;}#sk-container-id-1 label.sk-toggleable__label-arrow:hover:before {color: black;}#sk-container-id-1 div.sk-estimator:hover label.sk-toggleable__label-arrow:before {color: black;}#sk-container-id-1 div.sk-toggleable__content {max-height: 0;max-width: 0;overflow: hidden;text-align: left;background-color: #f0f8ff;}#sk-container-id-1 div.sk-toggleable__content pre {margin: 0.2em;color: black;border-radius: 0.25em;background-color: #f0f8ff;}#sk-container-id-1 input.sk-toggleable__control:checked~div.sk-toggleable__content {max-height: 200px;max-width: 100%;overflow: auto;}#sk-container-id-1 input.sk-toggleable__control:checked~label.sk-toggleable__label-arrow:before {content: \"▾\";}#sk-container-id-1 div.sk-estimator input.sk-toggleable__control:checked~label.sk-toggleable__label {background-color: #d4ebff;}#sk-container-id-1 div.sk-label input.sk-toggleable__control:checked~label.sk-toggleable__label {background-color: #d4ebff;}#sk-container-id-1 input.sk-hidden--visually {border: 0;clip: rect(1px 1px 1px 1px);clip: rect(1px, 1px, 1px, 1px);height: 1px;margin: -1px;overflow: hidden;padding: 0;position: absolute;width: 1px;}#sk-container-id-1 div.sk-estimator {font-family: monospace;background-color: #f0f8ff;border: 1px dotted black;border-radius: 0.25em;box-sizing: border-box;margin-bottom: 0.5em;}#sk-container-id-1 div.sk-estimator:hover {background-color: #d4ebff;}#sk-container-id-1 div.sk-parallel-item::after {content: \"\";width: 100%;border-bottom: 1px solid gray;flex-grow: 1;}#sk-container-id-1 div.sk-label:hover label.sk-toggleable__label {background-color: #d4ebff;}#sk-container-id-1 div.sk-serial::before {content: \"\";position: absolute;border-left: 1px solid gray;box-sizing: border-box;top: 0;bottom: 0;left: 50%;z-index: 0;}#sk-container-id-1 div.sk-serial {display: flex;flex-direction: column;align-items: center;background-color: white;padding-right: 0.2em;padding-left: 0.2em;position: relative;}#sk-container-id-1 div.sk-item {position: relative;z-index: 1;}#sk-container-id-1 div.sk-parallel {display: flex;align-items: stretch;justify-content: center;background-color: white;position: relative;}#sk-container-id-1 div.sk-item::before, #sk-container-id-1 div.sk-parallel-item::before {content: \"\";position: absolute;border-left: 1px solid gray;box-sizing: border-box;top: 0;bottom: 0;left: 50%;z-index: -1;}#sk-container-id-1 div.sk-parallel-item {display: flex;flex-direction: column;z-index: 1;position: relative;background-color: white;}#sk-container-id-1 div.sk-parallel-item:first-child::after {align-self: flex-end;width: 50%;}#sk-container-id-1 div.sk-parallel-item:last-child::after {align-self: flex-start;width: 50%;}#sk-container-id-1 div.sk-parallel-item:only-child::after {width: 0;}#sk-container-id-1 div.sk-dashed-wrapped {border: 1px dashed gray;margin: 0 0.4em 0.5em 0.4em;box-sizing: border-box;padding-bottom: 0.4em;background-color: white;}#sk-container-id-1 div.sk-label label {font-family: monospace;font-weight: bold;display: inline-block;line-height: 1.2em;}#sk-container-id-1 div.sk-label-container {text-align: center;}#sk-container-id-1 div.sk-container {/* jupyter's `normalize.less` sets `[hidden] { display: none; }` but bootstrap.min.css set `[hidden] { display: none !important; }` so we also need the `!important` here to be able to override the default hidden behavior on the sphinx rendered scikit-learn.org. See: https://github.com/scikit-learn/scikit-learn/issues/21755 */display: inline-block !important;position: relative;}#sk-container-id-1 div.sk-text-repr-fallback {display: none;}</style><div id=\"sk-container-id-1\" class=\"sk-top-container\"><div class=\"sk-text-repr-fallback\"><pre>DecisionTreeRegressor(max_depth=4)</pre><b>In a Jupyter environment, please rerun this cell to show the HTML representation or trust the notebook. <br />On GitHub, the HTML representation is unable to render, please try loading this page with nbviewer.org.</b></div><div class=\"sk-container\" hidden><div class=\"sk-item\"><div class=\"sk-estimator sk-toggleable\"><input class=\"sk-toggleable__control sk-hidden--visually\" id=\"sk-estimator-id-1\" type=\"checkbox\" checked><label for=\"sk-estimator-id-1\" class=\"sk-toggleable__label sk-toggleable__label-arrow\">DecisionTreeRegressor</label><div class=\"sk-toggleable__content\"><pre>DecisionTreeRegressor(max_depth=4)</pre></div></div></div></div></div>"
            ],
            "text/plain": [
              "DecisionTreeRegressor(max_depth=4)"
            ]
          },
          "execution_count": 14,
          "metadata": {},
          "output_type": "execute_result"
        }
      ],
      "source": [
        "\n",
        "reg1.fit(X_dtm_1, y)"
      ]
    },
    {
      "cell_type": "code",
      "execution_count": null,
      "metadata": {
        "id": "zDeuaAi_O-Rd"
      },
      "outputs": [],
      "source": [
        "pred1 = reg1.predict(X_dtm_1)"
      ]
    },
    {
      "cell_type": "code",
      "execution_count": null,
      "metadata": {
        "colab": {
          "base_uri": "https://localhost:8080/"
        },
        "id": "btPtG9_fPYDJ",
        "outputId": "38d172db-41ce-458b-d219-81d340276595"
      },
      "outputs": [
        {
          "data": {
            "text/plain": [
              "0.033633964222851837"
            ]
          },
          "execution_count": 16,
          "metadata": {},
          "output_type": "execute_result"
        }
      ],
      "source": [
        "from sklearn.metrics import mean_squared_error\n",
        "MSE_1 = mean_squared_error(y,pred1)\n",
        "MSE_1"
      ]
    },
    {
      "cell_type": "markdown",
      "metadata": {
        "id": "qsTnDhgDdXrS"
      },
      "source": [
        "## Punto 2 - Tokenización con CountVectorizer y trigramas\n",
        "\n",
        "En la celda 2 creen y entrenen el mismo modelo de regresión del punto anterior (es decir si usaron un RandomForestRegresor usen nuevamente ese regresor), para que prediga la probabilidad de que un comentario sea tóxico, usando los set de entrenamiento y test definidos anteriormente. Usen la función CountVectorizer **considerando trigramas** para preprocesar los comentarios y presenten el desempeño del modelo con la métrica del MSE.\n",
        "\n",
        "Recuerden que el preprocesamiento que se haga sobre los datos de entrenamiento  (*.fit_transform()*) deben ser aplicado al set de test (*.transform()*)."
      ]
    },
    {
      "cell_type": "code",
      "execution_count": null,
      "metadata": {
        "id": "zLpJJD9VdXrT"
      },
      "outputs": [],
      "source": [
        "# Celda 2\n",
        "vect_2 = CountVectorizer(ngram_range=(3, 3))\n",
        "X_dtm_2 = vect_2.fit_transform(X)"
      ]
    },
    {
      "cell_type": "code",
      "execution_count": null,
      "metadata": {
        "id": "T3oAtIMvlXZb"
      },
      "outputs": [],
      "source": [
        "X_dtm_2.shape"
      ]
    },
    {
      "cell_type": "code",
      "execution_count": null,
      "metadata": {
        "colab": {
          "background_save": true
        },
        "id": "rtcaO4v_lX_K",
        "outputId": "fb03d23d-c9f3-4f45-8957-f32b0383f676"
      },
      "outputs": [
        {
          "name": "stdout",
          "output_type": "stream",
          "text": [
            "['𝗼𝗻 𝘁𝗵𝗲 𝘀𝘁𝗿𝗲𝗲𝘁𝘀' '𝗼𝘁𝗵𝗲𝗿𝘀 𝗧𝗿𝘂𝗹𝘆 𝘁𝗲𝗹𝗹' '𝗼𝘁𝗵𝗲𝗿𝘀 𝘁𝗼 𝗯𝗲'\n",
            " '𝗽𝗿𝗮𝗰𝘁𝗶𝗰𝗲 𝘆𝗼𝘂𝗿 𝗿𝗶𝗴𝗵𝘁𝗲𝗼𝘂𝘀𝗻𝗲𝘀𝘀' '𝗿𝗲𝗰𝗲𝗶𝘃𝗲𝗱 𝘁𝗵𝗲𝗶𝗿 𝗿𝗲𝘄𝗮𝗿𝗱' '𝗿𝗲𝘄𝗮𝗿𝗱 𝗳𝗿𝗼𝗺 𝘆𝗼𝘂𝗿'\n",
            " '𝗿𝗲𝘄𝗮𝗿𝗱 𝗶𝗻 𝗳𝘂𝗹𝗹' '𝗿𝗶𝗴𝗵𝘁𝗲𝗼𝘂𝘀𝗻𝗲𝘀𝘀 𝗶𝗻 𝗳𝗿𝗼𝗻𝘁' '𝘀𝗲𝗲𝗻 𝗯𝘆 𝘁𝗵𝗲𝗺' '𝘀𝘁𝗿𝗲𝗲𝘁𝘀 𝘁𝗼 𝗯𝗲'\n",
            " '𝘀𝘆𝗻𝗮𝗴𝗼𝗴𝘂𝗲𝘀 𝗮𝗻𝗱 𝗼𝗻' '𝘁𝗲𝗹𝗹 𝘆𝗼𝘂 𝘁𝗵𝗲𝘆' '𝘁𝗵𝗲 𝗵𝘆𝗽𝗼𝗰𝗿𝗶𝘁𝗲𝘀 𝗱𝗼' '𝘁𝗵𝗲 𝗻𝗲𝗲𝗱𝘆 𝗱𝗼'\n",
            " '𝘁𝗵𝗲 𝘀𝘁𝗿𝗲𝗲𝘁𝘀 𝘁𝗼' '𝘁𝗵𝗲 𝘀𝘆𝗻𝗮𝗴𝗼𝗴𝘂𝗲𝘀 𝗮𝗻𝗱' '𝘁𝗵𝗲𝗶𝗿 𝗿𝗲𝘄𝗮𝗿𝗱 𝗶𝗻' '𝘁𝗵𝗲𝗺 𝗜𝗳 𝘆𝗼𝘂'\n",
            " '𝘁𝗵𝗲𝘆 𝗵𝗮𝘃𝗲 𝗿𝗲𝗰𝗲𝗶𝘃𝗲𝗱' '𝘁𝗼 𝗯𝗲 𝗵𝗼𝗻𝗼𝗿𝗲𝗱' '𝘁𝗼 𝗯𝗲 𝘀𝗲𝗲𝗻' '𝘁𝗼 𝗽𝗿𝗮𝗰𝘁𝗶𝗰𝗲 𝘆𝗼𝘂𝗿'\n",
            " '𝘁𝗼 𝘁𝗵𝗲 𝗻𝗲𝗲𝗱𝘆' '𝘁𝗿𝘂𝗺𝗽𝗲𝘁𝘀 𝗮𝘀 𝘁𝗵𝗲' '𝘄𝗵𝗲𝗻 𝘆𝗼𝘂 𝗴𝗶𝘃𝗲' '𝘄𝗶𝗹𝗹 𝗵𝗮𝘃𝗲 𝗻𝗼'\n",
            " '𝘄𝗶𝘁𝗵 𝘁𝗿𝘂𝗺𝗽𝗲𝘁𝘀 𝗮𝘀' '𝘆𝗼𝘂 𝗱𝗼 𝘆𝗼𝘂' '𝘆𝗼𝘂 𝗴𝗶𝘃𝗲 𝘁𝗼' '𝘆𝗼𝘂 𝘁𝗵𝗲𝘆 𝗵𝗮𝘃𝗲'\n",
            " '𝘆𝗼𝘂 𝘄𝗶𝗹𝗹 𝗵𝗮𝘃𝗲' '𝘆𝗼𝘂𝗿 𝗙𝗮𝘁𝗵𝗲𝗿 𝗶𝗻' '𝘆𝗼𝘂𝗿 𝗿𝗶𝗴𝗵𝘁𝗲𝗼𝘂𝘀𝗻𝗲𝘀𝘀 𝗶𝗻'\n",
            " '𝘆𝗼𝘂𝘁𝘂 𝗯𝗲 𝗴𝗞𝗭𝗘𝗳𝗿𝗪𝟱𝗺𝟳𝗤' '𝘊𝘩𝘦𝘤𝘬 𝘶𝘴𝘦 𝘣𝘺' '𝘢𝘴 𝘴𝘰𝘮𝘦 𝘱𝘳𝘪𝘰𝘳' '𝘣𝘦 𝘰𝘶𝘵𝘥𝘢𝘵𝘦𝘥 𝘸𝘩𝘦𝘯'\n",
            " '𝘣𝘺 𝘥𝘢𝘵𝘦 𝘢𝘴' '𝘥𝘢𝘵𝘦 𝘢𝘴 𝘴𝘰𝘮𝘦' '𝘧𝘰𝘶𝘯𝘥 𝘵𝘰 𝘣𝘦' '𝘰𝘶𝘵𝘥𝘢𝘵𝘦𝘥 𝘸𝘩𝘦𝘯 𝘳𝘦𝘤𝘦𝘪𝘷𝘦𝘥'\n",
            " '𝘱𝘳𝘪𝘰𝘳 𝘴𝘩𝘪𝘱𝘮𝘦𝘯𝘵𝘴 𝘸𝘦𝘳𝘦' '𝘴𝘩𝘪𝘱𝘮𝘦𝘯𝘵𝘴 𝘸𝘦𝘳𝘦 𝘧𝘰𝘶𝘯𝘥' '𝘴𝘰𝘮𝘦 𝘱𝘳𝘪𝘰𝘳 𝘴𝘩𝘪𝘱𝘮𝘦𝘯𝘵𝘴'\n",
            " '𝘵𝘰 𝘣𝘦 𝘰𝘶𝘵𝘥𝘢𝘵𝘦𝘥' '𝘶𝘴𝘦 𝘣𝘺 𝘥𝘢𝘵𝘦' '𝘸𝘦𝘳𝘦 𝘧𝘰𝘶𝘯𝘥 𝘵𝘰' '𝘼𝙙𝙢 𝙅𝙞𝙢 𝙆𝙞𝙡𝙗𝙮'\n",
            " '𝘼𝙡𝙬𝙖𝙮𝙨 𝘾𝙝𝙚𝙖𝙩 barend' '𝘽𝙪𝙩 𝘼𝙡𝙬𝙖𝙮𝙨 𝘾𝙝𝙚𝙖𝙩']\n"
          ]
        }
      ],
      "source": [
        "print(vect_2.get_feature_names_out()[-150:-100])\n"
      ]
    },
    {
      "cell_type": "code",
      "execution_count": null,
      "metadata": {
        "colab": {
          "background_save": true
        },
        "id": "UisfFBNJ4d3G"
      },
      "outputs": [],
      "source": [
        "reg2 = DecisionTreeRegressor(max_depth = 4)\n",
        "#reg2.fit(X_dtm_2, y)\n"
      ]
    },
    {
      "cell_type": "code",
      "execution_count": null,
      "metadata": {
        "colab": {
          "background_save": true
        },
        "id": "uZqskW8KIHNd",
        "outputId": "18425b66-b02f-4057-8cf5-257bcae06d44"
      },
      "outputs": [
        {
          "data": {
            "text/html": [
              "<style>#sk-container-id-2 {color: black;background-color: white;}#sk-container-id-2 pre{padding: 0;}#sk-container-id-2 div.sk-toggleable {background-color: white;}#sk-container-id-2 label.sk-toggleable__label {cursor: pointer;display: block;width: 100%;margin-bottom: 0;padding: 0.3em;box-sizing: border-box;text-align: center;}#sk-container-id-2 label.sk-toggleable__label-arrow:before {content: \"▸\";float: left;margin-right: 0.25em;color: #696969;}#sk-container-id-2 label.sk-toggleable__label-arrow:hover:before {color: black;}#sk-container-id-2 div.sk-estimator:hover label.sk-toggleable__label-arrow:before {color: black;}#sk-container-id-2 div.sk-toggleable__content {max-height: 0;max-width: 0;overflow: hidden;text-align: left;background-color: #f0f8ff;}#sk-container-id-2 div.sk-toggleable__content pre {margin: 0.2em;color: black;border-radius: 0.25em;background-color: #f0f8ff;}#sk-container-id-2 input.sk-toggleable__control:checked~div.sk-toggleable__content {max-height: 200px;max-width: 100%;overflow: auto;}#sk-container-id-2 input.sk-toggleable__control:checked~label.sk-toggleable__label-arrow:before {content: \"▾\";}#sk-container-id-2 div.sk-estimator input.sk-toggleable__control:checked~label.sk-toggleable__label {background-color: #d4ebff;}#sk-container-id-2 div.sk-label input.sk-toggleable__control:checked~label.sk-toggleable__label {background-color: #d4ebff;}#sk-container-id-2 input.sk-hidden--visually {border: 0;clip: rect(1px 1px 1px 1px);clip: rect(1px, 1px, 1px, 1px);height: 1px;margin: -1px;overflow: hidden;padding: 0;position: absolute;width: 1px;}#sk-container-id-2 div.sk-estimator {font-family: monospace;background-color: #f0f8ff;border: 1px dotted black;border-radius: 0.25em;box-sizing: border-box;margin-bottom: 0.5em;}#sk-container-id-2 div.sk-estimator:hover {background-color: #d4ebff;}#sk-container-id-2 div.sk-parallel-item::after {content: \"\";width: 100%;border-bottom: 1px solid gray;flex-grow: 1;}#sk-container-id-2 div.sk-label:hover label.sk-toggleable__label {background-color: #d4ebff;}#sk-container-id-2 div.sk-serial::before {content: \"\";position: absolute;border-left: 1px solid gray;box-sizing: border-box;top: 0;bottom: 0;left: 50%;z-index: 0;}#sk-container-id-2 div.sk-serial {display: flex;flex-direction: column;align-items: center;background-color: white;padding-right: 0.2em;padding-left: 0.2em;position: relative;}#sk-container-id-2 div.sk-item {position: relative;z-index: 1;}#sk-container-id-2 div.sk-parallel {display: flex;align-items: stretch;justify-content: center;background-color: white;position: relative;}#sk-container-id-2 div.sk-item::before, #sk-container-id-2 div.sk-parallel-item::before {content: \"\";position: absolute;border-left: 1px solid gray;box-sizing: border-box;top: 0;bottom: 0;left: 50%;z-index: -1;}#sk-container-id-2 div.sk-parallel-item {display: flex;flex-direction: column;z-index: 1;position: relative;background-color: white;}#sk-container-id-2 div.sk-parallel-item:first-child::after {align-self: flex-end;width: 50%;}#sk-container-id-2 div.sk-parallel-item:last-child::after {align-self: flex-start;width: 50%;}#sk-container-id-2 div.sk-parallel-item:only-child::after {width: 0;}#sk-container-id-2 div.sk-dashed-wrapped {border: 1px dashed gray;margin: 0 0.4em 0.5em 0.4em;box-sizing: border-box;padding-bottom: 0.4em;background-color: white;}#sk-container-id-2 div.sk-label label {font-family: monospace;font-weight: bold;display: inline-block;line-height: 1.2em;}#sk-container-id-2 div.sk-label-container {text-align: center;}#sk-container-id-2 div.sk-container {/* jupyter's `normalize.less` sets `[hidden] { display: none; }` but bootstrap.min.css set `[hidden] { display: none !important; }` so we also need the `!important` here to be able to override the default hidden behavior on the sphinx rendered scikit-learn.org. See: https://github.com/scikit-learn/scikit-learn/issues/21755 */display: inline-block !important;position: relative;}#sk-container-id-2 div.sk-text-repr-fallback {display: none;}</style><div id=\"sk-container-id-2\" class=\"sk-top-container\"><div class=\"sk-text-repr-fallback\"><pre>DecisionTreeRegressor(max_depth=4)</pre><b>In a Jupyter environment, please rerun this cell to show the HTML representation or trust the notebook. <br />On GitHub, the HTML representation is unable to render, please try loading this page with nbviewer.org.</b></div><div class=\"sk-container\" hidden><div class=\"sk-item\"><div class=\"sk-estimator sk-toggleable\"><input class=\"sk-toggleable__control sk-hidden--visually\" id=\"sk-estimator-id-2\" type=\"checkbox\" checked><label for=\"sk-estimator-id-2\" class=\"sk-toggleable__label sk-toggleable__label-arrow\">DecisionTreeRegressor</label><div class=\"sk-toggleable__content\"><pre>DecisionTreeRegressor(max_depth=4)</pre></div></div></div></div></div>"
            ],
            "text/plain": [
              "DecisionTreeRegressor(max_depth=4)"
            ]
          },
          "execution_count": 21,
          "metadata": {},
          "output_type": "execute_result"
        }
      ],
      "source": [
        "reg2.fit(X_dtm_2, y)"
      ]
    },
    {
      "cell_type": "code",
      "execution_count": null,
      "metadata": {
        "colab": {
          "background_save": true
        },
        "id": "TIE358YlMBCW"
      },
      "outputs": [],
      "source": [
        "pred2 = reg2.predict(X_dtm_2)"
      ]
    },
    {
      "cell_type": "code",
      "execution_count": null,
      "metadata": {
        "colab": {
          "background_save": true
        },
        "id": "iAsAvjlgR0Q6",
        "outputId": "627ba777-c0a2-40b5-dd3c-92fbdf33a65b"
      },
      "outputs": [
        {
          "data": {
            "text/plain": [
              "0.038491359741242216"
            ]
          },
          "execution_count": 23,
          "metadata": {},
          "output_type": "execute_result"
        }
      ],
      "source": [
        "MSE_2=mean_squared_error(y,pred2)\n",
        "MSE_2"
      ]
    },
    {
      "cell_type": "markdown",
      "metadata": {
        "id": "XAIZK6ludXrT"
      },
      "source": [
        "## Punto 3 - TfidfVectorizer\n",
        "\n",
        "Investigen sobre la función TfidfVectorizer. En la celda de texto 3, expliquen en qué consiste esta técnica de tokenización (describanla y expliquen su funcionamiento) y cúales son las ventajas o deventajas de su uso al compararlo con la función CountVectorizer."
      ]
    },
    {
      "cell_type": "code",
      "execution_count": null,
      "metadata": {
        "id": "QS6FJrX8dXrU"
      },
      "outputs": [],
      "source": [
        "#Celda 3\n"
      ]
    },
    {
      "cell_type": "markdown",
      "metadata": {
        "id": "O4pfwD2BbJEc"
      },
      "source": [
        "El TfidfVectorizer similar al Countvectorizer, cuenta el número de veces que una palabra o n-grama está presente en el documento sin embargo, el TfidfVectorizer adicionalmente penaliza las palabras que generalmente aparecen en otros documentos, con el propósito de determinar qué tan importante es la palabra para el documento en cuestión. \n",
        "\n",
        "*Ventajas*: Frente a CountVectorizer tiene la ventaja de que elimina las palabras con poca relevancia/palabras que aparecen en varios documentos y que pueden ser de bajo valor informativo para las predicciones, esto a su vez le permite \"limpiar\" los datos y tener mejores insumos de predicción. \n",
        "\n",
        "*Desventajas*: puede haber pérdida de información semántica y sintáctica si no se realiza correctamente. Además, la tokenización puede ser costosa computacionalmente y requerir personalización para diferentes lenguajes o textos específicos. En resumen, aunque la tokenización es útil, es importante tener en cuenta sus posibles desventajas."
      ]
    },
    {
      "cell_type": "markdown",
      "metadata": {
        "id": "qlbhT3EtdXrU"
      },
      "source": [
        "## Punto 4 - Tokenización con TfidfVectorizer\n",
        "\n",
        "En la celda 4 creen y entrenen el mismo modelo de regresión del primer punto, para que prediga la probabilidad de que un comentario sea tóxico, usando los set de entrenamiento y test definidos anteriormente. Procesen los comentarios con la función **TfidfVectorizer** y presenten el desempeño del modelo con la métrica del MSE.\n",
        "\n",
        "Recuerden que el preprocesamiento que se haga sobre los datos de entrenamiento  (*.fit_transform()*) deben ser aplicado al set de test (*.transform()*)."
      ]
    },
    {
      "cell_type": "code",
      "execution_count": null,
      "metadata": {
        "id": "akb4WfhMdXrV"
      },
      "outputs": [],
      "source": [
        "# Celda 4\n",
        "vect_3 = TfidfVectorizer()\n",
        "X_dtm_3 = vect_3.fit_transform(X)"
      ]
    },
    {
      "cell_type": "code",
      "execution_count": null,
      "metadata": {
        "colab": {
          "base_uri": "https://localhost:8080/"
        },
        "id": "0FE3rsxOUqfz",
        "outputId": "1f4696f7-59b9-4128-b7ba-b12f1ab0fca6"
      },
      "outputs": [
        {
          "data": {
            "text/plain": [
              "(541462, 171853)"
            ]
          },
          "execution_count": 28,
          "metadata": {},
          "output_type": "execute_result"
        }
      ],
      "source": [
        "X_dtm_3.shape"
      ]
    },
    {
      "cell_type": "code",
      "execution_count": null,
      "metadata": {
        "colab": {
          "base_uri": "https://localhost:8080/"
        },
        "id": "hMBKfdwuUrMB",
        "outputId": "c8f0d7c2-11ef-43af-95b6-ed06cd8676e5"
      },
      "outputs": [
        {
          "name": "stdout",
          "output_type": "stream",
          "text": [
            "['𝗰𝗮𝗿𝗲𝗳𝘂𝗹' '𝗱𝗼' '𝗱𝗼𝗹𝗹𝗮𝗿𝘀' '𝗳𝗿𝗼𝗺' '𝗳𝗿𝗼𝗻𝘁' '𝗳𝘂𝗹𝗹' '𝗴𝗞𝗭𝗘𝗳𝗿𝗪𝟱𝗺𝟳𝗤' '𝗴𝗶𝘃𝗲'\n",
            " '𝗵𝗮𝘃𝗲' '𝗵𝗲𝗮𝘃𝗲𝗻' '𝗵𝗼𝗻𝗼𝗿𝗲𝗱' '𝗵𝘁𝘁𝗽𝘀' '𝗵𝘆𝗽𝗼𝗰𝗿𝗶𝘁𝗲𝘀' '𝗶𝗻' '𝗶𝘁' '𝗻𝗲𝗲𝗱𝘆' '𝗻𝗼'\n",
            " '𝗻𝗼𝘁' '𝗼𝗳' '𝗼𝗻' '𝗼𝘁𝗵𝗲𝗿𝘀' '𝗽𝗿𝗮𝗰𝘁𝗶𝗰𝗲' '𝗿𝗲𝗰𝗲𝗶𝘃𝗲𝗱' '𝗿𝗲𝘄𝗮𝗿𝗱' '𝗿𝗶𝗴𝗵𝘁𝗲𝗼𝘂𝘀𝗻𝗲𝘀𝘀'\n",
            " '𝘀𝗲𝗲𝗻' '𝘀𝘁𝗿𝗲𝗲𝘁𝘀' '𝘀𝘆𝗻𝗮𝗴𝗼𝗴𝘂𝗲𝘀' '𝘁𝗲𝗹𝗹' '𝘁𝗵𝗲' '𝘁𝗵𝗲𝗶𝗿' '𝘁𝗵𝗲𝗺' '𝘁𝗵𝗲𝘆' '𝘁𝗼'\n",
            " '𝘁𝗿𝘂𝗺𝗽𝗲𝘁𝘀' '𝘄𝗵𝗲𝗻' '𝘄𝗶𝗹𝗹' '𝘄𝗶𝘁𝗵' '𝘆𝗼𝘂' '𝘆𝗼𝘂𝗿' '𝘆𝗼𝘂𝘁𝘂' '𝘊𝘦𝘳𝘢𝘵𝘰𝘤𝘺𝘴𝘵𝘪𝘴'\n",
            " '𝘊𝘩𝘦𝘤𝘬' '𝘢𝘴' '𝘣𝘦' '𝘣𝘺' '𝘥𝘢𝘵𝘦' '𝘧𝘪𝘮𝘣𝘳𝘪𝘢𝘵𝘢' '𝘧𝘰𝘶𝘯𝘥' '𝘰𝘶𝘵𝘥𝘢𝘵𝘦𝘥']\n"
          ]
        }
      ],
      "source": [
        "print(vect_3.get_feature_names_out()[-150:-100])"
      ]
    },
    {
      "cell_type": "code",
      "execution_count": null,
      "metadata": {
        "id": "-IlcWNywU0C9"
      },
      "outputs": [],
      "source": [
        "reg3 = DecisionTreeRegressor(max_depth = 4)"
      ]
    },
    {
      "cell_type": "code",
      "execution_count": null,
      "metadata": {
        "colab": {
          "base_uri": "https://localhost:8080/",
          "height": 75
        },
        "id": "FimDCpgxU0Is",
        "outputId": "ed3dccc3-bd80-4257-8414-1888857ec522"
      },
      "outputs": [
        {
          "data": {
            "text/html": [
              "<style>#sk-container-id-3 {color: black;background-color: white;}#sk-container-id-3 pre{padding: 0;}#sk-container-id-3 div.sk-toggleable {background-color: white;}#sk-container-id-3 label.sk-toggleable__label {cursor: pointer;display: block;width: 100%;margin-bottom: 0;padding: 0.3em;box-sizing: border-box;text-align: center;}#sk-container-id-3 label.sk-toggleable__label-arrow:before {content: \"▸\";float: left;margin-right: 0.25em;color: #696969;}#sk-container-id-3 label.sk-toggleable__label-arrow:hover:before {color: black;}#sk-container-id-3 div.sk-estimator:hover label.sk-toggleable__label-arrow:before {color: black;}#sk-container-id-3 div.sk-toggleable__content {max-height: 0;max-width: 0;overflow: hidden;text-align: left;background-color: #f0f8ff;}#sk-container-id-3 div.sk-toggleable__content pre {margin: 0.2em;color: black;border-radius: 0.25em;background-color: #f0f8ff;}#sk-container-id-3 input.sk-toggleable__control:checked~div.sk-toggleable__content {max-height: 200px;max-width: 100%;overflow: auto;}#sk-container-id-3 input.sk-toggleable__control:checked~label.sk-toggleable__label-arrow:before {content: \"▾\";}#sk-container-id-3 div.sk-estimator input.sk-toggleable__control:checked~label.sk-toggleable__label {background-color: #d4ebff;}#sk-container-id-3 div.sk-label input.sk-toggleable__control:checked~label.sk-toggleable__label {background-color: #d4ebff;}#sk-container-id-3 input.sk-hidden--visually {border: 0;clip: rect(1px 1px 1px 1px);clip: rect(1px, 1px, 1px, 1px);height: 1px;margin: -1px;overflow: hidden;padding: 0;position: absolute;width: 1px;}#sk-container-id-3 div.sk-estimator {font-family: monospace;background-color: #f0f8ff;border: 1px dotted black;border-radius: 0.25em;box-sizing: border-box;margin-bottom: 0.5em;}#sk-container-id-3 div.sk-estimator:hover {background-color: #d4ebff;}#sk-container-id-3 div.sk-parallel-item::after {content: \"\";width: 100%;border-bottom: 1px solid gray;flex-grow: 1;}#sk-container-id-3 div.sk-label:hover label.sk-toggleable__label {background-color: #d4ebff;}#sk-container-id-3 div.sk-serial::before {content: \"\";position: absolute;border-left: 1px solid gray;box-sizing: border-box;top: 0;bottom: 0;left: 50%;z-index: 0;}#sk-container-id-3 div.sk-serial {display: flex;flex-direction: column;align-items: center;background-color: white;padding-right: 0.2em;padding-left: 0.2em;position: relative;}#sk-container-id-3 div.sk-item {position: relative;z-index: 1;}#sk-container-id-3 div.sk-parallel {display: flex;align-items: stretch;justify-content: center;background-color: white;position: relative;}#sk-container-id-3 div.sk-item::before, #sk-container-id-3 div.sk-parallel-item::before {content: \"\";position: absolute;border-left: 1px solid gray;box-sizing: border-box;top: 0;bottom: 0;left: 50%;z-index: -1;}#sk-container-id-3 div.sk-parallel-item {display: flex;flex-direction: column;z-index: 1;position: relative;background-color: white;}#sk-container-id-3 div.sk-parallel-item:first-child::after {align-self: flex-end;width: 50%;}#sk-container-id-3 div.sk-parallel-item:last-child::after {align-self: flex-start;width: 50%;}#sk-container-id-3 div.sk-parallel-item:only-child::after {width: 0;}#sk-container-id-3 div.sk-dashed-wrapped {border: 1px dashed gray;margin: 0 0.4em 0.5em 0.4em;box-sizing: border-box;padding-bottom: 0.4em;background-color: white;}#sk-container-id-3 div.sk-label label {font-family: monospace;font-weight: bold;display: inline-block;line-height: 1.2em;}#sk-container-id-3 div.sk-label-container {text-align: center;}#sk-container-id-3 div.sk-container {/* jupyter's `normalize.less` sets `[hidden] { display: none; }` but bootstrap.min.css set `[hidden] { display: none !important; }` so we also need the `!important` here to be able to override the default hidden behavior on the sphinx rendered scikit-learn.org. See: https://github.com/scikit-learn/scikit-learn/issues/21755 */display: inline-block !important;position: relative;}#sk-container-id-3 div.sk-text-repr-fallback {display: none;}</style><div id=\"sk-container-id-3\" class=\"sk-top-container\"><div class=\"sk-text-repr-fallback\"><pre>DecisionTreeRegressor(max_depth=4)</pre><b>In a Jupyter environment, please rerun this cell to show the HTML representation or trust the notebook. <br />On GitHub, the HTML representation is unable to render, please try loading this page with nbviewer.org.</b></div><div class=\"sk-container\" hidden><div class=\"sk-item\"><div class=\"sk-estimator sk-toggleable\"><input class=\"sk-toggleable__control sk-hidden--visually\" id=\"sk-estimator-id-3\" type=\"checkbox\" checked><label for=\"sk-estimator-id-3\" class=\"sk-toggleable__label sk-toggleable__label-arrow\">DecisionTreeRegressor</label><div class=\"sk-toggleable__content\"><pre>DecisionTreeRegressor(max_depth=4)</pre></div></div></div></div></div>"
            ],
            "text/plain": [
              "DecisionTreeRegressor(max_depth=4)"
            ]
          },
          "execution_count": 31,
          "metadata": {},
          "output_type": "execute_result"
        }
      ],
      "source": [
        "reg3.fit(X_dtm_3, y)"
      ]
    },
    {
      "cell_type": "code",
      "execution_count": null,
      "metadata": {
        "colab": {
          "base_uri": "https://localhost:8080/",
          "height": 406
        },
        "id": "tbzbjlhZV4Qy",
        "outputId": "d4e70564-dd01-406d-f200-92a6351a1c15"
      },
      "outputs": [
        {
          "data": {
            "image/png": "[encoded data removed]",
            "text/plain": [
              "<Figure size 640x480 with 1 Axes>"
            ]
          },
          "metadata": {},
          "output_type": "display_data"
        }
      ],
      "source": [
        "plot_tree(reg3)\n",
        "plt.show()"
      ]
    },
    {
      "cell_type": "code",
      "execution_count": null,
      "metadata": {
        "id": "Bx7wGqibU0RM"
      },
      "outputs": [],
      "source": [
        "pred3 = reg3.predict(X_dtm_3)"
      ]
    },
    {
      "cell_type": "code",
      "execution_count": null,
      "metadata": {
        "colab": {
          "base_uri": "https://localhost:8080/"
        },
        "id": "BbubJvMcVUCc",
        "outputId": "d4101ba5-dce4-4020-abab-54175c5aaf22"
      },
      "outputs": [
        {
          "data": {
            "text/plain": [
              "0.0335837291735206"
            ]
          },
          "execution_count": 38,
          "metadata": {},
          "output_type": "execute_result"
        }
      ],
      "source": [
        "MSE_3=mean_squared_error(y,pred3)\n",
        "MSE_3"
      ]
    },
    {
      "cell_type": "markdown",
      "metadata": {
        "id": "WWV5FKHOdXrV"
      },
      "source": [
        "## Punto 5 - Comparación y análisis de resultados\n",
        "\n",
        "En la celda 5 comparen los resultados obtenidos de los diferentes modelos y comenten cómo el preprocesamiento de texto afecta el desempeño."
      ]
    },
    {
      "cell_type": "code",
      "execution_count": null,
      "metadata": {
        "colab": {
          "base_uri": "https://localhost:8080/",
          "height": 563
        },
        "id": "xaInxqhEdXrV",
        "outputId": "29925558-def9-4943-fa5c-946cc6365c28"
      },
      "outputs": [
        {
          "data": {
            "image/png": "[encoded data removed]",
            "text/plain": [
              "<Figure size 640x480 with 1 Axes>"
            ]
          },
          "metadata": {},
          "output_type": "display_data"
        }
      ],
      "source": [
        "# Celda 5\n",
        "fig = plt.figure()\n",
        "ax = fig.add_axes([0,0,1,1])\n",
        "ax.set_title(\"Comparación de modelos por MSE\")\n",
        "ax.set_ylim(bottom=0, top=0.04)\n",
        "ejeX = ['CountVectorizer','CountVectorizer y trigramas' ,'TfidfVectorizer']\n",
        "ejeY = np.round([MSE_1,MSE_2,MSE_3], 3)\n",
        "ax.bar(ejeX,ejeY)\n",
        "def addlabels(x,y,plotP):\n",
        "    for i in range(len(x)):\n",
        "        plotP.text(i,y[i],y[i])\n",
        "addlabels(ejeX,ejeY,plt)\n",
        "plt.show()"
      ]
    },
    {
      "cell_type": "markdown",
      "metadata": {
        "id": "aEEOxtgFZJe2"
      },
      "source": [
        "Se esperaba un mejor desempeño del TfidVectorizer, frente a las dos opciones del CountVectorizer. Sin embargo, por calificación de MSE el TfidVectorizer y el CountVectorizer de 1 palabra tuvieron el mismo desempeño, mientras que el CountVectorizer con trigramas tuvo un desempeño inferior. Esto podría atribuirse a que los trigramas formados no aportaton información de mayor grado de relevancia frente a los modelos de unigramas (1 palabra).  "
      ]
    }
  ],
  "metadata": {
    "colab": {
      "provenance": []
    },
    "kernelspec": {
      "display_name": "Python 3 (ipykernel)",
      "language": "python",
      "name": "python3"
    },
    "language_info": {
      "codemirror_mode": {
        "name": "ipython",
        "version": 3
      },
      "file_extension": ".py",
      "mimetype": "text/x-python",
      "name": "python",
      "nbconvert_exporter": "python",
      "pygments_lexer": "ipython3",
      "version": "3.9.12"
    },
    "name": "_merged"
  },
  "nbformat": 4,
  "nbformat_minor": 0
}